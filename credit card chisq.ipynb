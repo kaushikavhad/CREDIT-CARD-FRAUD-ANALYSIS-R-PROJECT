{
 "cells": [
  {
   "cell_type": "code",
   "execution_count": 3,
   "metadata": {},
   "outputs": [
    {
     "name": "stdout",
     "output_type": "stream",
     "text": [
      "'data.frame':\t284807 obs. of  32 variables:\n",
      " $ Time      : num  0 0 1 1 2 2 4 7 7 9 ...\n",
      " $ V1        : num  -1.36 1.192 -1.358 -0.966 -1.158 ...\n",
      " $ V2        : num  -0.0728 0.2662 -1.3402 -0.1852 0.8777 ...\n",
      " $ V3        : num  2.536 0.166 1.773 1.793 1.549 ...\n",
      " $ V4        : num  1.378 0.448 0.38 -0.863 0.403 ...\n",
      " $ V5        : num  -0.3383 0.06 -0.5032 -0.0103 -0.4072 ...\n",
      " $ V6        : num  0.4624 -0.0824 1.8005 1.2472 0.0959 ...\n",
      " $ V7        : num  0.2396 -0.0788 0.7915 0.2376 0.5929 ...\n",
      " $ V8        : num  0.0987 0.0851 0.2477 0.3774 -0.2705 ...\n",
      " $ V9        : num  0.364 -0.255 -1.515 -1.387 0.818 ...\n",
      " $ V10       : num  0.0908 -0.167 0.2076 -0.055 0.7531 ...\n",
      " $ V11       : num  -0.552 1.613 0.625 -0.226 -0.823 ...\n",
      " $ V12       : num  -0.6178 1.0652 0.0661 0.1782 0.5382 ...\n",
      " $ V13       : num  -0.991 0.489 0.717 0.508 1.346 ...\n",
      " $ V14       : num  -0.311 -0.144 -0.166 -0.288 -1.12 ...\n",
      " $ V15       : num  1.468 0.636 2.346 -0.631 0.175 ...\n",
      " $ V16       : num  -0.47 0.464 -2.89 -1.06 -0.451 ...\n",
      " $ V17       : num  0.208 -0.115 1.11 -0.684 -0.237 ...\n",
      " $ V18       : num  0.0258 -0.1834 -0.1214 1.9658 -0.0382 ...\n",
      " $ V19       : num  0.404 -0.146 -2.262 -1.233 0.803 ...\n",
      " $ V20       : num  0.2514 -0.0691 0.525 -0.208 0.4085 ...\n",
      " $ V21       : num  -0.01831 -0.22578 0.248 -0.1083 -0.00943 ...\n",
      " $ V22       : num  0.27784 -0.63867 0.77168 0.00527 0.79828 ...\n",
      " $ V23       : num  -0.11 0.101 0.909 -0.19 -0.137 ...\n",
      " $ V24       : num  0.0669 -0.3398 -0.6893 -1.1756 0.1413 ...\n",
      " $ V25       : num  0.129 0.167 -0.328 0.647 -0.206 ...\n",
      " $ V26       : num  -0.189 0.126 -0.139 -0.222 0.502 ...\n",
      " $ V27       : num  0.13356 -0.00898 -0.05535 0.06272 0.21942 ...\n",
      " $ V28       : num  -0.0211 0.0147 -0.0598 0.0615 0.2152 ...\n",
      " $ Amount    : num  149.62 2.69 378.66 123.5 69.99 ...\n",
      " $ Class     : int  0 0 0 0 0 0 0 0 0 0 ...\n",
      " $ Amount_cat: chr  \"high\" \"low\" \"high\" \"high\" ...\n"
     ]
    }
   ],
   "source": [
    "credit_data<- read.csv(\"M:\\\\Imarticus\\\\ProjectR\\\\Credit card fraud\\\\Datafiles\\\\creditcard.csv\", header = TRUE,\n",
    "                              stringsAsFactors = TRUE,\n",
    "                              strip.white = FALSE ,\n",
    "                              sep = ',')\n",
    "\n",
    "credit_data$Amount_cat<- ifelse(credit_data$Amount<=30,\"low\",\n",
    "                                       ifelse(credit_data$Amount>=31 & credit_data$Amount<=75,\"medium\",\"high\"))\n",
    "str(credit_data)\n"
   ]
  },
  {
   "cell_type": "code",
   "execution_count": 4,
   "metadata": {},
   "outputs": [],
   "source": [
    "credit_data$Class= as.factor(credit_data$Class)\n",
    "credit_data$Amount_cat= as.factor(credit_data$Amount_cat)"
   ]
  },
  {
   "cell_type": "code",
   "execution_count": 5,
   "metadata": {},
   "outputs": [
    {
     "data": {
      "text/plain": [
       "\n",
       "\tPearson's Chi-squared test\n",
       "\n",
       "data:  credit_data$Class and credit_data$Amount_cat\n",
       "X-squared = 55.721, df = 2, p-value = 7.95e-13\n"
      ]
     },
     "metadata": {},
     "output_type": "display_data"
    }
   ],
   "source": [
    "chisq.test(credit_data$Class,credit_data$Amount_cat,correct=TRUE)"
   ]
  },
  {
   "cell_type": "code",
   "execution_count": null,
   "metadata": {},
   "outputs": [],
   "source": []
  }
 ],
 "metadata": {
  "kernelspec": {
   "display_name": "R",
   "language": "R",
   "name": "ir"
  },
  "language_info": {
   "codemirror_mode": "r",
   "file_extension": ".r",
   "mimetype": "text/x-r-source",
   "name": "R",
   "pygments_lexer": "r",
   "version": "3.5.1"
  }
 },
 "nbformat": 4,
 "nbformat_minor": 2
}
