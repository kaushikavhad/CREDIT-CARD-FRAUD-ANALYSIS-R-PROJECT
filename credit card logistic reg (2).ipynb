{
 "cells": [
  {
   "cell_type": "code",
   "execution_count": 1,
   "metadata": {},
   "outputs": [
    {
     "data": {
      "text/plain": [
       "\n",
       "   0    1 \n",
       "1506  492 "
      ]
     },
     "metadata": {},
     "output_type": "display_data"
    }
   ],
   "source": [
    "credit_data_sample<- read.csv(\"M:\\\\Imarticus\\\\ProjectR\\\\Credit card fraud\\\\Datafiles\\\\credit_data_sample.csv\", header = TRUE,\n",
    "                              stringsAsFactors = TRUE,\n",
    "                              strip.white = FALSE ,\n",
    "                              sep = ',')\n",
    "table(credit_data_sample$Class)"
   ]
  },
  {
   "cell_type": "code",
   "execution_count": 2,
   "metadata": {},
   "outputs": [
    {
     "name": "stderr",
     "output_type": "stream",
     "text": [
      "Warning message:\n",
      "\"glm.fit: fitted probabilities numerically 0 or 1 occurred\""
     ]
    },
    {
     "data": {
      "text/plain": [
       "\n",
       "Call:\n",
       "glm(formula = Class ~ V4 + V10 + V12 + V14, family = binomial(logit), \n",
       "    data = credit_data_sample)\n",
       "\n",
       "Deviance Residuals: \n",
       "    Min       1Q   Median       3Q      Max  \n",
       "-2.5181  -0.2415  -0.1507  -0.0454   3.4572  \n",
       "\n",
       "Coefficients:\n",
       "            Estimate Std. Error z value Pr(>|z|)    \n",
       "(Intercept) -3.86100    0.18478 -20.895  < 2e-16 ***\n",
       "V4           0.72079    0.08685   8.299  < 2e-16 ***\n",
       "V10         -0.60813    0.15645  -3.887 0.000101 ***\n",
       "V12         -0.60954    0.12059  -5.055 4.31e-07 ***\n",
       "V14         -0.78177    0.10750  -7.272 3.54e-13 ***\n",
       "---\n",
       "Signif. codes:  0 '***' 0.001 '**' 0.01 '*' 0.05 '.' 0.1 ' ' 1\n",
       "\n",
       "(Dispersion parameter for binomial family taken to be 1)\n",
       "\n",
       "    Null deviance: 2230.46  on 1997  degrees of freedom\n",
       "Residual deviance:  452.93  on 1993  degrees of freedom\n",
       "AIC: 462.93\n",
       "\n",
       "Number of Fisher Scoring iterations: 9\n"
      ]
     },
     "metadata": {},
     "output_type": "display_data"
    }
   ],
   "source": [
    "credit_data_sample$Class= as.factor(credit_data_sample$Class)\n",
    "library(InformationValue)\n",
    "\n",
    "fit = glm(Class ~ V4+V10+V12+V14, data=credit_data_sample, family=binomial(logit))\n",
    "pred = predict(fit, data= credit_data_sample, type=\"response\")\n",
    "summary(fit)\n"
   ]
  },
  {
   "cell_type": "code",
   "execution_count": 3,
   "metadata": {},
   "outputs": [
    {
     "data": {
      "text/html": [
       "<table>\n",
       "<thead><tr><th></th><th scope=col>0</th><th scope=col>1</th></tr></thead>\n",
       "<tbody>\n",
       "\t<tr><th scope=row>0</th><td>1499</td><td> 68 </td></tr>\n",
       "\t<tr><th scope=row>1</th><td>   7</td><td>424 </td></tr>\n",
       "</tbody>\n",
       "</table>\n"
      ],
      "text/latex": [
       "\\begin{tabular}{r|ll}\n",
       "  & 0 & 1\\\\\n",
       "\\hline\n",
       "\t0 & 1499 &  68 \\\\\n",
       "\t1 &    7 & 424 \\\\\n",
       "\\end{tabular}\n"
      ],
      "text/markdown": [
       "\n",
       "| <!--/--> | 0 | 1 | \n",
       "|---|---|\n",
       "| 0 | 1499 |  68  | \n",
       "| 1 |    7 | 424  | \n",
       "\n",
       "\n"
      ],
      "text/plain": [
       "  0    1  \n",
       "0 1499  68\n",
       "1    7 424"
      ]
     },
     "metadata": {},
     "output_type": "display_data"
    }
   ],
   "source": [
    "confusionMatrix(credit_data_sample$Class,pred>0.7)"
   ]
  },
  {
   "cell_type": "code",
   "execution_count": 4,
   "metadata": {},
   "outputs": [
    {
     "data": {
      "image/png": "[encoded data removed]",
      "text/plain": [
       "plot without title"
      ]
     },
     "metadata": {},
     "output_type": "display_data"
    }
   ],
   "source": [
    "plotROC(credit_data_sample,pred)"
   ]
  },
  {
   "cell_type": "code",
   "execution_count": 5,
   "metadata": {},
   "outputs": [
    {
     "data": {
      "text/html": [
       "0.867886178861789"
      ],
      "text/latex": [
       "0.867886178861789"
      ],
      "text/markdown": [
       "0.867886178861789"
      ],
      "text/plain": [
       "[1] 0.8678862"
      ]
     },
     "metadata": {},
     "output_type": "display_data"
    },
    {
     "data": {
      "text/html": [
       "0.99468791500664"
      ],
      "text/latex": [
       "0.99468791500664"
      ],
      "text/markdown": [
       "0.99468791500664"
      ],
      "text/plain": [
       "[1] 0.9946879"
      ]
     },
     "metadata": {},
     "output_type": "display_data"
    }
   ],
   "source": [
    "sensitivity(credit_data_sample$Class, pred, threshold = 0.6)\n",
    "specificity(credit_data_sample$Class, pred, threshold = 0.6)"
   ]
  },
  {
   "cell_type": "code",
   "execution_count": 6,
   "metadata": {},
   "outputs": [
    {
     "data": {
      "text/html": [
       "399"
      ],
      "text/latex": [
       "399"
      ],
      "text/markdown": [
       "399"
      ],
      "text/plain": [
       "[1] 399"
      ]
     },
     "metadata": {},
     "output_type": "display_data"
    }
   ],
   "source": [
    "library(caTools)\n",
    "split = sample.split(credit_data_sample$Class, SplitRatio = .8)\n",
    "training_data = subset(credit_data_sample, split == TRUE)\n",
    "test_data = subset(credit_data_sample, split == FALSE)\n",
    "nrow(test_data)"
   ]
  },
  {
   "cell_type": "code",
   "execution_count": 7,
   "metadata": {},
   "outputs": [
    {
     "name": "stderr",
     "output_type": "stream",
     "text": [
      "Warning message:\n",
      "\"glm.fit: fitted probabilities numerically 0 or 1 occurred\""
     ]
    },
    {
     "data": {
      "text/plain": [
       "\n",
       "Call:\n",
       "glm(formula = Class ~ V4 + V10 + V12 + V14, family = binomial, \n",
       "    data = training_data)\n",
       "\n",
       "Deviance Residuals: \n",
       "    Min       1Q   Median       3Q      Max  \n",
       "-2.3893  -0.2422  -0.1524  -0.0414   3.4735  \n",
       "\n",
       "Coefficients:\n",
       "            Estimate Std. Error z value Pr(>|z|)    \n",
       "(Intercept)  -3.9053     0.2111 -18.498  < 2e-16 ***\n",
       "V4            0.7234     0.0971   7.450 9.31e-14 ***\n",
       "V10          -0.7693     0.1776  -4.333 1.47e-05 ***\n",
       "V12          -0.5543     0.1295  -4.279 1.88e-05 ***\n",
       "V14          -0.6789     0.1142  -5.946 2.74e-09 ***\n",
       "---\n",
       "Signif. codes:  0 '***' 0.001 '**' 0.01 '*' 0.05 '.' 0.1 ' ' 1\n",
       "\n",
       "(Dispersion parameter for binomial family taken to be 1)\n",
       "\n",
       "    Null deviance: 1785.60  on 1598  degrees of freedom\n",
       "Residual deviance:  365.09  on 1594  degrees of freedom\n",
       "AIC: 375.09\n",
       "\n",
       "Number of Fisher Scoring iterations: 9\n"
      ]
     },
     "metadata": {},
     "output_type": "display_data"
    }
   ],
   "source": [
    "fit_train = glm(Class ~V4 + V10 + V12 + V14, training_data, family=binomial)\n",
    "summary(fit_train)"
   ]
  },
  {
   "cell_type": "code",
   "execution_count": 19,
   "metadata": {},
   "outputs": [
    {
     "data": {
      "text/html": [
       "<table>\n",
       "<thead><tr><th></th><th scope=col>0</th><th scope=col>1</th></tr></thead>\n",
       "<tbody>\n",
       "\t<tr><th scope=row>0</th><td>301</td><td>15 </td></tr>\n",
       "\t<tr><th scope=row>1</th><td>  0</td><td>83 </td></tr>\n",
       "</tbody>\n",
       "</table>\n"
      ],
      "text/latex": [
       "\\begin{tabular}{r|ll}\n",
       "  & 0 & 1\\\\\n",
       "\\hline\n",
       "\t0 & 301 & 15 \\\\\n",
       "\t1 &   0 & 83 \\\\\n",
       "\\end{tabular}\n"
      ],
      "text/markdown": [
       "\n",
       "| <!--/--> | 0 | 1 | \n",
       "|---|---|\n",
       "| 0 | 301 | 15  | \n",
       "| 1 |   0 | 83  | \n",
       "\n",
       "\n"
      ],
      "text/plain": [
       "  0   1 \n",
       "0 301 15\n",
       "1   0 83"
      ]
     },
     "metadata": {},
     "output_type": "display_data"
    }
   ],
   "source": [
    "pred_test <-predict(fit_train,test_data, type=\"response\")\n",
    "\n",
    "\n",
    "confusionMatrix(test_data$Class,pred_test>0.7)"
   ]
  },
  {
   "cell_type": "code",
   "execution_count": 20,
   "metadata": {},
   "outputs": [
    {
     "data": {
      "image/png": "[encoded data removed]",
      "text/plain": [
       "plot without title"
      ]
     },
     "metadata": {},
     "output_type": "display_data"
    }
   ],
   "source": [
    "plotROC(test_data,pred_test)\n"
   ]
  },
  {
   "cell_type": "code",
   "execution_count": 21,
   "metadata": {},
   "outputs": [
    {
     "data": {
      "text/html": [
       "0.846938775510204"
      ],
      "text/latex": [
       "0.846938775510204"
      ],
      "text/markdown": [
       "0.846938775510204"
      ],
      "text/plain": [
       "[1] 0.8469388"
      ]
     },
     "metadata": {},
     "output_type": "display_data"
    },
    {
     "data": {
      "text/html": [
       "1"
      ],
      "text/latex": [
       "1"
      ],
      "text/markdown": [
       "1"
      ],
      "text/plain": [
       "[1] 1"
      ]
     },
     "metadata": {},
     "output_type": "display_data"
    }
   ],
   "source": [
    "sensitivity(test_data$Class, pred_test, threshold = 0.6)\n",
    "specificity(test_data$Class, pred_test, threshold = 0.6)"
   ]
  },
  {
   "cell_type": "code",
   "execution_count": 26,
   "metadata": {},
   "outputs": [],
   "source": [
    "library(readr)\n",
    "credit_data<- read.csv(\"M:\\\\Imarticus\\\\ProjectR\\\\Credit card fraud\\\\Datafiles\\\\creditcard.csv\", header = TRUE,\n",
    "                       stringsAsFactors = TRUE,\n",
    "                       strip.white = FALSE ,\n",
    "                       sep = ',')"
   ]
  },
  {
   "cell_type": "code",
   "execution_count": 22,
   "metadata": {},
   "outputs": [
    {
     "data": {
      "text/html": [
       "<table>\n",
       "<thead><tr><th></th><th scope=col>0</th><th scope=col>1</th></tr></thead>\n",
       "<tbody>\n",
       "\t<tr><th scope=row>0</th><td>283361</td><td> 69   </td></tr>\n",
       "\t<tr><th scope=row>1</th><td>   954</td><td>423   </td></tr>\n",
       "</tbody>\n",
       "</table>\n"
      ],
      "text/latex": [
       "\\begin{tabular}{r|ll}\n",
       "  & 0 & 1\\\\\n",
       "\\hline\n",
       "\t0 & 283361 &  69   \\\\\n",
       "\t1 &    954 & 423   \\\\\n",
       "\\end{tabular}\n"
      ],
      "text/markdown": [
       "\n",
       "| <!--/--> | 0 | 1 | \n",
       "|---|---|\n",
       "| 0 | 283361 |  69    | \n",
       "| 1 |    954 | 423    | \n",
       "\n",
       "\n"
      ],
      "text/plain": [
       "  0      1  \n",
       "0 283361  69\n",
       "1    954 423"
      ]
     },
     "metadata": {},
     "output_type": "display_data"
    }
   ],
   "source": [
    "pred_data <-predict(fit_train,credit_data, type=\"response\")\n",
    "\n",
    "\n",
    "confusionMatrix(credit_data$Class,pred_data>0.7)"
   ]
  },
  {
   "cell_type": "code",
   "execution_count": 24,
   "metadata": {},
   "outputs": [
    {
     "data": {
      "text/html": [
       "0.865853658536585"
      ],
      "text/latex": [
       "0.865853658536585"
      ],
      "text/markdown": [
       "0.865853658536585"
      ],
      "text/plain": [
       "[1] 0.8658537"
      ]
     },
     "metadata": {},
     "output_type": "display_data"
    },
    {
     "data": {
      "text/html": [
       "0.994840230026555"
      ],
      "text/latex": [
       "0.994840230026555"
      ],
      "text/markdown": [
       "0.994840230026555"
      ],
      "text/plain": [
       "[1] 0.9948402"
      ]
     },
     "metadata": {},
     "output_type": "display_data"
    }
   ],
   "source": [
    "sensitivity(credit_data$Class, pred_test, threshold = 0.6)\n",
    "specificity(credit_data$Class, pred_test, threshold = 0.6)"
   ]
  },
  {
   "cell_type": "code",
   "execution_count": 1,
   "metadata": {},
   "outputs": [],
   "source": [
    "#conclusion \n",
    "#1. classification of class variable mostly depends on V4,V10,V12 & V14 variables."
   ]
  },
  {
   "cell_type": "code",
   "execution_count": null,
   "metadata": {},
   "outputs": [],
   "source": []
  }
 ],
 "metadata": {
  "kernelspec": {
   "display_name": "R",
   "language": "R",
   "name": "ir"
  },
  "language_info": {
   "codemirror_mode": "r",
   "file_extension": ".r",
   "mimetype": "text/x-r-source",
   "name": "R",
   "pygments_lexer": "r",
   "version": "3.5.1"
  }
 },
 "nbformat": 4,
 "nbformat_minor": 2
}
