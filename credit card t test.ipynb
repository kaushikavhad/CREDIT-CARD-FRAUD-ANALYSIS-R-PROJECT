{
 "cells": [
  {
   "cell_type": "code",
   "execution_count": 36,
   "metadata": {},
   "outputs": [
    {
     "name": "stdout",
     "output_type": "stream",
     "text": [
      "'data.frame':\t284807 obs. of  31 variables:\n",
      " $ Time  : num  0 0 1 1 2 2 4 7 7 9 ...\n",
      " $ V1    : num  -1.36 1.192 -1.358 -0.966 -1.158 ...\n",
      " $ V2    : num  -0.0728 0.2662 -1.3402 -0.1852 0.8777 ...\n",
      " $ V3    : num  2.536 0.166 1.773 1.793 1.549 ...\n",
      " $ V4    : num  1.378 0.448 0.38 -0.863 0.403 ...\n",
      " $ V5    : num  -0.3383 0.06 -0.5032 -0.0103 -0.4072 ...\n",
      " $ V6    : num  0.4624 -0.0824 1.8005 1.2472 0.0959 ...\n",
      " $ V7    : num  0.2396 -0.0788 0.7915 0.2376 0.5929 ...\n",
      " $ V8    : num  0.0987 0.0851 0.2477 0.3774 -0.2705 ...\n",
      " $ V9    : num  0.364 -0.255 -1.515 -1.387 0.818 ...\n",
      " $ V10   : num  0.0908 -0.167 0.2076 -0.055 0.7531 ...\n",
      " $ V11   : num  -0.552 1.613 0.625 -0.226 -0.823 ...\n",
      " $ V12   : num  -0.6178 1.0652 0.0661 0.1782 0.5382 ...\n",
      " $ V13   : num  -0.991 0.489 0.717 0.508 1.346 ...\n",
      " $ V14   : num  -0.311 -0.144 -0.166 -0.288 -1.12 ...\n",
      " $ V15   : num  1.468 0.636 2.346 -0.631 0.175 ...\n",
      " $ V16   : num  -0.47 0.464 -2.89 -1.06 -0.451 ...\n",
      " $ V17   : num  0.208 -0.115 1.11 -0.684 -0.237 ...\n",
      " $ V18   : num  0.0258 -0.1834 -0.1214 1.9658 -0.0382 ...\n",
      " $ V19   : num  0.404 -0.146 -2.262 -1.233 0.803 ...\n",
      " $ V20   : num  0.2514 -0.0691 0.525 -0.208 0.4085 ...\n",
      " $ V21   : num  -0.01831 -0.22578 0.248 -0.1083 -0.00943 ...\n",
      " $ V22   : num  0.27784 -0.63867 0.77168 0.00527 0.79828 ...\n",
      " $ V23   : num  -0.11 0.101 0.909 -0.19 -0.137 ...\n",
      " $ V24   : num  0.0669 -0.3398 -0.6893 -1.1756 0.1413 ...\n",
      " $ V25   : num  0.129 0.167 -0.328 0.647 -0.206 ...\n",
      " $ V26   : num  -0.189 0.126 -0.139 -0.222 0.502 ...\n",
      " $ V27   : num  0.13356 -0.00898 -0.05535 0.06272 0.21942 ...\n",
      " $ V28   : num  -0.0211 0.0147 -0.0598 0.0615 0.2152 ...\n",
      " $ Amount: num  149.62 2.69 378.66 123.5 69.99 ...\n",
      " $ Class : int  0 0 0 0 0 0 0 0 0 0 ...\n"
     ]
    }
   ],
   "source": [
    "credit_data<- read.csv(\"M:\\\\Imarticus\\\\ProjectR\\\\Credit card fraud\\\\Datafiles\\\\creditcard.csv\", header = TRUE,\n",
    "                              stringsAsFactors = TRUE,\n",
    "                              strip.white = FALSE ,\n",
    "                              sep = ',')\n",
    "\n",
    "str(credit_data)\n",
    "\n"
   ]
  },
  {
   "cell_type": "code",
   "execution_count": 37,
   "metadata": {},
   "outputs": [],
   "source": [
    "credit_data$Class= as.factor(credit_data$Class) "
   ]
  },
  {
   "cell_type": "code",
   "execution_count": 3,
   "metadata": {},
   "outputs": [
    {
     "data": {
      "text/plain": [
       "\n",
       "\tWelch Two Sample t-test\n",
       "\n",
       "data:  credit_data$Time[credit_data$Class == 0] and credit_data$Time[credit_data$Class == 1]\n",
       "t = 6.5286, df = 492.68, p-value = 1.655e-10\n",
       "alternative hypothesis: true difference in means is not equal to 0\n",
       "95 percent confidence interval:\n",
       "  9850.547 18332.244\n",
       "sample estimates:\n",
       "mean of x mean of y \n",
       " 94838.20  80746.81 \n"
      ]
     },
     "metadata": {},
     "output_type": "display_data"
    }
   ],
   "source": [
    "t.test(credit_data$Time[credit_data$Class==0],\n",
    "       credit_data$Time[credit_data$Class==1])\n"
   ]
  },
  {
   "cell_type": "code",
   "execution_count": 4,
   "metadata": {},
   "outputs": [
    {
     "data": {
      "text/plain": [
       "\n",
       "\tWelch Two Sample t-test\n",
       "\n",
       "data:  credit_data$V1[credit_data$Class == 0] and credit_data$V1[credit_data$Class == 1]\n",
       "t = 15.629, df = 491.14, p-value < 2.2e-16\n",
       "alternative hypothesis: true difference in means is not equal to 0\n",
       "95 percent confidence interval:\n",
       " 4.179263 5.381149\n",
       "sample estimates:\n",
       "   mean of x    mean of y \n",
       " 0.008257737 -4.771948441 \n"
      ]
     },
     "metadata": {},
     "output_type": "display_data"
    }
   ],
   "source": [
    "t.test(credit_data$V1[credit_data$Class==0],\n",
    "       credit_data$V1[credit_data$Class==1])"
   ]
  },
  {
   "cell_type": "code",
   "execution_count": 35,
   "metadata": {},
   "outputs": [
    {
     "data": {
      "text/plain": [
       "\n",
       "\tWelch Two Sample t-test\n",
       "\n",
       "data:  credit_data$V2[credit_data$Class == 0] and credit_data$V2[credit_data$Class == 1]\n",
       "t = -18.761, df = 491.25, p-value < 2.2e-16\n",
       "alternative hypothesis: true difference in means is not equal to 0\n",
       "95 percent confidence interval:\n",
       " -4.010214 -3.249884\n",
       "sample estimates:\n",
       "   mean of x    mean of y \n",
       "-0.006270857  3.623778102 \n"
      ]
     },
     "metadata": {},
     "output_type": "display_data"
    }
   ],
   "source": [
    "t.test(credit_data$V2[credit_data$Class==0],\n",
    "       credit_data$V2[credit_data$Class==1])"
   ]
  },
  {
   "cell_type": "code",
   "execution_count": 5,
   "metadata": {},
   "outputs": [
    {
     "data": {
      "text/plain": [
       "\n",
       "\tWelch Two Sample t-test\n",
       "\n",
       "data:  credit_data$V3[credit_data$Class == 0] and credit_data$V3[credit_data$Class == 1]\n",
       "t = 21.976, df = 491.07, p-value < 2.2e-16\n",
       "alternative hypothesis: true difference in means is not equal to 0\n",
       "95 percent confidence interval:\n",
       " 6.415540 7.675364\n",
       "sample estimates:\n",
       "  mean of x   mean of y \n",
       " 0.01217092 -7.03328105 \n"
      ]
     },
     "metadata": {},
     "output_type": "display_data"
    }
   ],
   "source": [
    "t.test(credit_data$V3[credit_data$Class==0],\n",
    "       credit_data$V3[credit_data$Class==1])"
   ]
  },
  {
   "cell_type": "code",
   "execution_count": 6,
   "metadata": {},
   "outputs": [
    {
     "data": {
      "text/plain": [
       "\n",
       "\tWelch Two Sample t-test\n",
       "\n",
       "data:  credit_data$V4[credit_data$Class == 0] and credit_data$V4[credit_data$Class == 1]\n",
       "t = -35.116, df = 491.4, p-value < 2.2e-16\n",
       "alternative hypothesis: true difference in means is not equal to 0\n",
       "95 percent confidence interval:\n",
       " -4.804460 -4.295318\n",
       "sample estimates:\n",
       "   mean of x    mean of y \n",
       "-0.007859868  4.542029104 \n"
      ]
     },
     "metadata": {},
     "output_type": "display_data"
    }
   ],
   "source": [
    "t.test(credit_data$V4[credit_data$Class==0],\n",
    "       credit_data$V4[credit_data$Class==1])"
   ]
  },
  {
   "cell_type": "code",
   "execution_count": 7,
   "metadata": {},
   "outputs": [
    {
     "data": {
      "text/plain": [
       "\n",
       "\tWelch Two Sample t-test\n",
       "\n",
       "data:  credit_data$V5[credit_data$Class == 0] and credit_data$V5[credit_data$Class == 1]\n",
       "t = 13.032, df = 491.11, p-value < 2.2e-16\n",
       "alternative hypothesis: true difference in means is not equal to 0\n",
       "95 percent confidence interval:\n",
       " 2.680757 3.632599\n",
       "sample estimates:\n",
       "   mean of x    mean of y \n",
       " 0.005453116 -3.151224886 \n"
      ]
     },
     "metadata": {},
     "output_type": "display_data"
    }
   ],
   "source": [
    "t.test(credit_data$V5[credit_data$Class==0],\n",
    "       credit_data$V5[credit_data$Class==1])"
   ]
  },
  {
   "cell_type": "code",
   "execution_count": 8,
   "metadata": {},
   "outputs": [
    {
     "data": {
      "text/plain": [
       "\n",
       "\tWelch Two Sample t-test\n",
       "\n",
       "data:  credit_data$V6[credit_data$Class == 0] and credit_data$V6[credit_data$Class == 1]\n",
       "t = 16.707, df = 491.87, p-value < 2.2e-16\n",
       "alternative hypothesis: true difference in means is not equal to 0\n",
       "95 percent confidence interval:\n",
       " 1.235490 1.564821\n",
       "sample estimates:\n",
       "   mean of x    mean of y \n",
       " 0.002418748 -1.397736711 \n"
      ]
     },
     "metadata": {},
     "output_type": "display_data"
    }
   ],
   "source": [
    "t.test(credit_data$V6[credit_data$Class==0],\n",
    "       credit_data$V6[credit_data$Class==1])"
   ]
  },
  {
   "cell_type": "code",
   "execution_count": 34,
   "metadata": {},
   "outputs": [
    {
     "data": {
      "text/plain": [
       "\n",
       "\tWelch Two Sample t-test\n",
       "\n",
       "data:  credit_data$V7[credit_data$Class == 0] and credit_data$V7[credit_data$Class == 1]\n",
       "t = 17.169, df = 491.05, p-value < 2.2e-16\n",
       "alternative hypothesis: true difference in means is not equal to 0\n",
       "95 percent confidence interval:\n",
       " 4.939975 6.216761\n",
       "sample estimates:\n",
       "  mean of x   mean of y \n",
       " 0.00963655 -5.56873108 \n"
      ]
     },
     "metadata": {},
     "output_type": "display_data"
    }
   ],
   "source": [
    "t.test(credit_data$V7[credit_data$Class==0],\n",
    "       credit_data$V7[credit_data$Class==1])"
   ]
  },
  {
   "cell_type": "code",
   "execution_count": 10,
   "metadata": {},
   "outputs": [
    {
     "data": {
      "text/plain": [
       "\n",
       "\tWelch Two Sample t-test\n",
       "\n",
       "data:  credit_data$V8[credit_data$Class == 0] and credit_data$V8[credit_data$Class == 1]\n",
       "t = -1.8651, df = 491.05, p-value = 0.06276\n",
       "alternative hypothesis: true difference in means is not equal to 0\n",
       "95 percent confidence interval:\n",
       " -1.17379264  0.03054591\n",
       "sample estimates:\n",
       "    mean of x     mean of y \n",
       "-0.0009874712  0.5706358953 \n"
      ]
     },
     "metadata": {},
     "output_type": "display_data"
    }
   ],
   "source": [
    "t.test(credit_data$V8[credit_data$Class==0],\n",
    "       credit_data$V8[credit_data$Class==1])"
   ]
  },
  {
   "cell_type": "code",
   "execution_count": 11,
   "metadata": {},
   "outputs": [
    {
     "data": {
      "text/plain": [
       "\n",
       "\tWelch Two Sample t-test\n",
       "\n",
       "data:  credit_data$V9[credit_data$Class == 0] and credit_data$V9[credit_data$Class == 1]\n",
       "t = 22.928, df = 491.32, p-value < 2.2e-16\n",
       "alternative hypothesis: true difference in means is not equal to 0\n",
       "95 percent confidence interval:\n",
       " 2.364023 2.807156\n",
       "sample estimates:\n",
       "   mean of x    mean of y \n",
       " 0.004466569 -2.581122922 \n"
      ]
     },
     "metadata": {},
     "output_type": "display_data"
    }
   ],
   "source": [
    "t.test(credit_data$V9[credit_data$Class==0],\n",
    "       credit_data$V9[credit_data$Class==1])"
   ]
  },
  {
   "cell_type": "code",
   "execution_count": 12,
   "metadata": {},
   "outputs": [
    {
     "data": {
      "text/plain": [
       "\n",
       "\tWelch Two Sample t-test\n",
       "\n",
       "data:  credit_data$V10[credit_data$Class == 0] and credit_data$V10[credit_data$Class == 1]\n",
       "t = 25.755, df = 491.08, p-value < 2.2e-16\n",
       "alternative hypothesis: true difference in means is not equal to 0\n",
       "95 percent confidence interval:\n",
       " 5.252881 6.120532\n",
       "sample estimates:\n",
       "   mean of x    mean of y \n",
       " 0.009823704 -5.676882870 \n"
      ]
     },
     "metadata": {},
     "output_type": "display_data"
    }
   ],
   "source": [
    "t.test(credit_data$V10[credit_data$Class==0],\n",
    "       credit_data$V10[credit_data$Class==1])"
   ]
  },
  {
   "cell_type": "code",
   "execution_count": 13,
   "metadata": {
    "scrolled": true
   },
   "outputs": [
    {
     "data": {
      "text/plain": [
       "\n",
       "\tWelch Two Sample t-test\n",
       "\n",
       "data:  credit_data$V11[credit_data$Class == 0] and credit_data$V11[credit_data$Class == 1]\n",
       "t = -31.519, df = 491.24, p-value < 2.2e-16\n",
       "alternative hypothesis: true difference in means is not equal to 0\n",
       "95 percent confidence interval:\n",
       " -4.044049 -3.569449\n",
       "sample estimates:\n",
       "   mean of x    mean of y \n",
       "-0.006576104  3.800172911 \n"
      ]
     },
     "metadata": {},
     "output_type": "display_data"
    }
   ],
   "source": [
    "t.test(credit_data$V11[credit_data$Class==0],\n",
    "       credit_data$V11[credit_data$Class==1])"
   ]
  },
  {
   "cell_type": "code",
   "execution_count": 14,
   "metadata": {},
   "outputs": [
    {
     "data": {
      "text/plain": [
       "\n",
       "\tWelch Two Sample t-test\n",
       "\n",
       "data:  credit_data$V12[credit_data$Class == 0] and credit_data$V12[credit_data$Class == 1]\n",
       "t = 29.88, df = 491.07, p-value < 2.2e-16\n",
       "alternative hypothesis: true difference in means is not equal to 0\n",
       "95 percent confidence interval:\n",
       " 5.857917 6.682533\n",
       "sample estimates:\n",
       "  mean of x   mean of y \n",
       " 0.01083172 -6.25939304 \n"
      ]
     },
     "metadata": {},
     "output_type": "display_data"
    }
   ],
   "source": [
    "t.test(credit_data$V12[credit_data$Class==0],\n",
    "       credit_data$V12[credit_data$Class==1])"
   ]
  },
  {
   "cell_type": "code",
   "execution_count": 16,
   "metadata": {},
   "outputs": [
    {
     "data": {
      "text/plain": [
       "\n",
       "\tWelch Two Sample t-test\n",
       "\n",
       "data:  credit_data$V13[credit_data$Class == 0] and credit_data$V13[credit_data$Class == 1]\n",
       "t = 2.1979, df = 492.38, p-value = 0.02842\n",
       "alternative hypothesis: true difference in means is not equal to 0\n",
       "95 percent confidence interval:\n",
       " 0.01161639 0.20742964\n",
       "sample estimates:\n",
       "    mean of x     mean of y \n",
       " 0.0001891994 -0.1093338171 \n"
      ]
     },
     "metadata": {},
     "output_type": "display_data"
    }
   ],
   "source": [
    "t.test(credit_data$V13[credit_data$Class==0],\n",
    "       credit_data$V13[credit_data$Class==1])"
   ]
  },
  {
   "cell_type": "code",
   "execution_count": 17,
   "metadata": {},
   "outputs": [
    {
     "data": {
      "text/plain": [
       "\n",
       "\tWelch Two Sample t-test\n",
       "\n",
       "data:  credit_data$V14[credit_data$Class == 0] and credit_data$V14[credit_data$Class == 1]\n",
       "t = 36.201, df = 491.07, p-value < 2.2e-16\n",
       "alternative hypothesis: true difference in means is not equal to 0\n",
       "95 percent confidence interval:\n",
       " 6.604743 7.362832\n",
       "sample estimates:\n",
       "  mean of x   mean of y \n",
       " 0.01206439 -6.97172289 \n"
      ]
     },
     "metadata": {},
     "output_type": "display_data"
    }
   ],
   "source": [
    "t.test(credit_data$V14[credit_data$Class==0],\n",
    "       credit_data$V14[credit_data$Class==1])"
   ]
  },
  {
   "cell_type": "code",
   "execution_count": 18,
   "metadata": {},
   "outputs": [
    {
     "data": {
      "text/plain": [
       "\n",
       "\tWelch Two Sample t-test\n",
       "\n",
       "data:  credit_data$V15[credit_data$Class == 0] and credit_data$V15[credit_data$Class == 1]\n",
       "t = 1.9654, df = 492.29, p-value = 0.04993\n",
       "alternative hypothesis: true difference in means is not equal to 0\n",
       "95 percent confidence interval:\n",
       " 2.719045e-05 1.861519e-01\n",
       "sample estimates:\n",
       "    mean of x     mean of y \n",
       " 0.0001608109 -0.0929287469 \n"
      ]
     },
     "metadata": {},
     "output_type": "display_data"
    }
   ],
   "source": [
    "t.test(credit_data$V15[credit_data$Class==0],\n",
    "       credit_data$V15[credit_data$Class==1])"
   ]
  },
  {
   "cell_type": "code",
   "execution_count": 19,
   "metadata": {},
   "outputs": [
    {
     "data": {
      "text/plain": [
       "\n",
       "\tWelch Two Sample t-test\n",
       "\n",
       "data:  credit_data$V16[credit_data$Class == 0] and credit_data$V16[credit_data$Class == 1]\n",
       "t = 23.799, df = 491.08, p-value < 2.2e-16\n",
       "alternative hypothesis: true difference in means is not equal to 0\n",
       "95 percent confidence interval:\n",
       " 3.80473 4.48949\n",
       "sample estimates:\n",
       "   mean of x    mean of y \n",
       " 0.007164073 -4.139945699 \n"
      ]
     },
     "metadata": {},
     "output_type": "display_data"
    }
   ],
   "source": [
    "t.test(credit_data$V16[credit_data$Class==0],\n",
    "       credit_data$V16[credit_data$Class==1])"
   ]
  },
  {
   "cell_type": "code",
   "execution_count": 20,
   "metadata": {},
   "outputs": [
    {
     "data": {
      "text/plain": [
       "\n",
       "\tWelch Two Sample t-test\n",
       "\n",
       "data:  credit_data$V17[credit_data$Class == 0] and credit_data$V17[credit_data$Class == 1]\n",
       "t = 21.248, df = 491.02, p-value < 2.2e-16\n",
       "alternative hypothesis: true difference in means is not equal to 0\n",
       "95 percent confidence interval:\n",
       " 6.059906 7.294837\n",
       "sample estimates:\n",
       "  mean of x   mean of y \n",
       " 0.01153506 -6.66583640 \n"
      ]
     },
     "metadata": {},
     "output_type": "display_data"
    }
   ],
   "source": [
    "t.test(credit_data$V17[credit_data$Class==0],\n",
    "       credit_data$V17[credit_data$Class==1])"
   ]
  },
  {
   "cell_type": "code",
   "execution_count": 21,
   "metadata": {
    "scrolled": false
   },
   "outputs": [
    {
     "data": {
      "text/plain": [
       "\n",
       "\tWelch Two Sample t-test\n",
       "\n",
       "data:  credit_data$V18[credit_data$Class == 0] and credit_data$V18[credit_data$Class == 1]\n",
       "t = 17.214, df = 491.14, p-value < 2.2e-16\n",
       "alternative hypothesis: true difference in means is not equal to 0\n",
       "95 percent confidence interval:\n",
       " 1.993351 2.507040\n",
       "sample estimates:\n",
       "  mean of x   mean of y \n",
       " 0.00388718 -2.24630813 \n"
      ]
     },
     "metadata": {},
     "output_type": "display_data"
    }
   ],
   "source": [
    "t.test(credit_data$V18[credit_data$Class==0],\n",
    "       credit_data$V18[credit_data$Class==1])"
   ]
  },
  {
   "cell_type": "code",
   "execution_count": 33,
   "metadata": {},
   "outputs": [
    {
     "data": {
      "text/plain": [
       "\n",
       "\tWelch Two Sample t-test\n",
       "\n",
       "data:  credit_data$V19[credit_data$Class == 0] and credit_data$V19[credit_data$Class == 1]\n",
       "t = -9.8193, df = 491.47, p-value < 2.2e-16\n",
       "alternative hypothesis: true difference in means is not equal to 0\n",
       "95 percent confidence interval:\n",
       " -0.8182704 -0.5454040\n",
       "sample estimates:\n",
       "   mean of x    mean of y \n",
       "-0.001177864  0.680659303 \n"
      ]
     },
     "metadata": {},
     "output_type": "display_data"
    }
   ],
   "source": [
    "t.test(credit_data$V19[credit_data$Class==0],\n",
    "       credit_data$V19[credit_data$Class==1])"
   ]
  },
  {
   "cell_type": "code",
   "execution_count": 22,
   "metadata": {},
   "outputs": [
    {
     "data": {
      "text/plain": [
       "\n",
       "\tWelch Two Sample t-test\n",
       "\n",
       "data:  credit_data$V20[credit_data$Class == 0] and credit_data$V20[credit_data$Class == 1]\n",
       "t = -6.1415, df = 491.55, p-value = 1.688e-09\n",
       "alternative hypothesis: true difference in means is not equal to 0\n",
       "95 percent confidence interval:\n",
       " -0.4922825 -0.2536449\n",
       "sample estimates:\n",
       "    mean of x     mean of y \n",
       "-0.0006442894  0.3723193958 \n"
      ]
     },
     "metadata": {},
     "output_type": "display_data"
    }
   ],
   "source": [
    "t.test(credit_data$V20[credit_data$Class==0],\n",
    "       credit_data$V20[credit_data$Class==1])"
   ]
  },
  {
   "cell_type": "code",
   "execution_count": 23,
   "metadata": {},
   "outputs": [
    {
     "data": {
      "text/plain": [
       "\n",
       "\tWelch Two Sample t-test\n",
       "\n",
       "data:  credit_data$V21[credit_data$Class == 0] and credit_data$V21[credit_data$Class == 1]\n",
       "t = -4.0977, df = 491.06, p-value = 4.882e-05\n",
       "alternative hypothesis: true difference in means is not equal to 0\n",
       "95 percent confidence interval:\n",
       " -1.0575776 -0.3720688\n",
       "sample estimates:\n",
       "   mean of x    mean of y \n",
       "-0.001234847  0.713588353 \n"
      ]
     },
     "metadata": {},
     "output_type": "display_data"
    }
   ],
   "source": [
    "t.test(credit_data$V21[credit_data$Class==0],\n",
    "       credit_data$V21[credit_data$Class==1])"
   ]
  },
  {
   "cell_type": "code",
   "execution_count": 24,
   "metadata": {},
   "outputs": [
    {
     "data": {
      "text/plain": [
       "\n",
       "\tWelch Two Sample t-test\n",
       "\n",
       "data:  credit_data$V22[credit_data$Class == 0] and credit_data$V22[credit_data$Class == 1]\n",
       "t = -0.20881, df = 491.4, p-value = 0.8347\n",
       "alternative hypothesis: true difference in means is not equal to 0\n",
       "95 percent confidence interval:\n",
       " -0.1464921  0.1183457\n",
       "sample estimates:\n",
       "    mean of x     mean of y \n",
       "-2.431124e-05  1.404888e-02 \n"
      ]
     },
     "metadata": {},
     "output_type": "display_data"
    }
   ],
   "source": [
    "t.test(credit_data$V22[credit_data$Class==0],\n",
    "       credit_data$V22[credit_data$Class==1])"
   ]
  },
  {
   "cell_type": "code",
   "execution_count": 25,
   "metadata": {},
   "outputs": [
    {
     "data": {
      "text/plain": [
       "\n",
       "\tWelch Two Sample t-test\n",
       "\n",
       "data:  credit_data$V23[credit_data$Class == 0] and credit_data$V23[credit_data$Class == 1]\n",
       "t = 0.5669, df = 491.26, p-value = 0.571\n",
       "alternative hypothesis: true difference in means is not equal to 0\n",
       "95 percent confidence interval:\n",
       " -0.09956611  0.18032155\n",
       "sample estimates:\n",
       "    mean of x     mean of y \n",
       " 6.975193e-05 -4.030797e-02 \n"
      ]
     },
     "metadata": {},
     "output_type": "display_data"
    }
   ],
   "source": [
    "t.test(credit_data$V23[credit_data$Class==0],\n",
    "       credit_data$V23[credit_data$Class==1])"
   ]
  },
  {
   "cell_type": "code",
   "execution_count": 26,
   "metadata": {},
   "outputs": [
    {
     "data": {
      "text/plain": [
       "\n",
       "\tWelch Two Sample t-test\n",
       "\n",
       "data:  credit_data$V24[credit_data$Class == 0] and credit_data$V24[credit_data$Class == 1]\n",
       "t = 4.5253, df = 493.35, p-value = 7.565e-06\n",
       "alternative hypothesis: true difference in means is not equal to 0\n",
       "95 percent confidence interval:\n",
       " 0.0595883 0.1510362\n",
       "sample estimates:\n",
       "    mean of x     mean of y \n",
       " 0.0001819254 -0.1051303054 \n"
      ]
     },
     "metadata": {},
     "output_type": "display_data"
    }
   ],
   "source": [
    "t.test(credit_data$V24[credit_data$Class==0],\n",
    "       credit_data$V24[credit_data$Class==1])"
   ]
  },
  {
   "cell_type": "code",
   "execution_count": 28,
   "metadata": {},
   "outputs": [
    {
     "data": {
      "text/plain": [
       "\n",
       "\tWelch Two Sample t-test\n",
       "\n",
       "data:  credit_data$V25[credit_data$Class == 0] and credit_data$V25[credit_data$Class == 1]\n",
       "t = -1.1548, df = 491.73, p-value = 0.2487\n",
       "alternative hypothesis: true difference in means is not equal to 0\n",
       "95 percent confidence interval:\n",
       " -0.11216309  0.02912186\n",
       "sample estimates:\n",
       "    mean of x     mean of y \n",
       "-7.172626e-05  4.144889e-02 \n"
      ]
     },
     "metadata": {},
     "output_type": "display_data"
    }
   ],
   "source": [
    "t.test(credit_data$V25[credit_data$Class==0],\n",
    "       credit_data$V25[credit_data$Class==1])"
   ]
  },
  {
   "cell_type": "code",
   "execution_count": 29,
   "metadata": {},
   "outputs": [
    {
     "data": {
      "text/plain": [
       "\n",
       "\tWelch Two Sample t-test\n",
       "\n",
       "data:  credit_data$V26[credit_data$Class == 0] and credit_data$V26[credit_data$Class == 1]\n",
       "t = -2.4308, df = 492.78, p-value = 0.01542\n",
       "alternative hypothesis: true difference in means is not equal to 0\n",
       "95 percent confidence interval:\n",
       " -0.093556386 -0.009918617\n",
       "sample estimates:\n",
       "    mean of x     mean of y \n",
       "-8.937579e-05  5.164813e-02 \n"
      ]
     },
     "metadata": {},
     "output_type": "display_data"
    }
   ],
   "source": [
    "t.test(credit_data$V26[credit_data$Class==0],\n",
    "       credit_data$V26[credit_data$Class==1])"
   ]
  },
  {
   "cell_type": "code",
   "execution_count": 30,
   "metadata": {},
   "outputs": [
    {
     "data": {
      "text/plain": [
       "\n",
       "\tWelch Two Sample t-test\n",
       "\n",
       "data:  credit_data$V27[credit_data$Class == 0] and credit_data$V27[credit_data$Class == 1]\n",
       "t = -2.7527, df = 491.14, p-value = 0.00613\n",
       "alternative hypothesis: true difference in means is not equal to 0\n",
       "95 percent confidence interval:\n",
       " -0.29283317 -0.04890676\n",
       "sample estimates:\n",
       "    mean of x     mean of y \n",
       "-0.0002951754  0.1705747922 \n"
      ]
     },
     "metadata": {},
     "output_type": "display_data"
    }
   ],
   "source": [
    "t.test(credit_data$V27[credit_data$Class==0],\n",
    "       credit_data$V27[credit_data$Class==1])"
   ]
  },
  {
   "cell_type": "code",
   "execution_count": 31,
   "metadata": {},
   "outputs": [
    {
     "data": {
      "text/plain": [
       "\n",
       "\tWelch Two Sample t-test\n",
       "\n",
       "data:  credit_data$V28[credit_data$Class == 0] and credit_data$V28[credit_data$Class == 1]\n",
       "t = -3.071, df = 491.62, p-value = 0.002251\n",
       "alternative hypothesis: true difference in means is not equal to 0\n",
       "95 percent confidence interval:\n",
       " -0.12429255 -0.02730391\n",
       "sample estimates:\n",
       "    mean of x     mean of y \n",
       "-0.0001309404  0.0756672906 \n"
      ]
     },
     "metadata": {},
     "output_type": "display_data"
    }
   ],
   "source": [
    "t.test(credit_data$V28[credit_data$Class==0],\n",
    "       credit_data$V28[credit_data$Class==1])"
   ]
  },
  {
   "cell_type": "code",
   "execution_count": 32,
   "metadata": {},
   "outputs": [
    {
     "data": {
      "text/plain": [
       "\n",
       "\tOne Sample t-test\n",
       "\n",
       "data:  credit_data$Amount[credit_data$Class == 0]\n",
       "t = 188.23, df = 284310, p-value < 2.2e-16\n",
       "alternative hypothesis: true mean is not equal to 0\n",
       "95 percent confidence interval:\n",
       " 87.37169 89.21035\n",
       "sample estimates:\n",
       "mean of x \n",
       " 88.29102 \n"
      ]
     },
     "metadata": {},
     "output_type": "display_data"
    }
   ],
   "source": [
    "t.test(credit_data$Amount[credit_data$Class==0],\n",
    "       credit_data$VAmount[credit_data$Class==1])"
   ]
  },
  {
   "cell_type": "code",
   "execution_count": null,
   "metadata": {},
   "outputs": [],
   "source": [
    "#conclusion \n",
    "# Variables V8,V15,V22,V23,V25 & V26 may not sutable for analysis because of null hypothesis."
   ]
  }
 ],
 "metadata": {
  "kernelspec": {
   "display_name": "R",
   "language": "R",
   "name": "ir"
  },
  "language_info": {
   "codemirror_mode": "r",
   "file_extension": ".r",
   "mimetype": "text/x-r-source",
   "name": "R",
   "pygments_lexer": "r",
   "version": "3.5.1"
  }
 },
 "nbformat": 4,
 "nbformat_minor": 2
}
