{
 "cells": [
  {
   "cell_type": "code",
   "execution_count": 1,
   "metadata": {},
   "outputs": [
    {
     "name": "stdout",
     "output_type": "stream",
     "text": [
      "'data.frame':\t284807 obs. of  32 variables:\n",
      " $ Time      : num  0 0 1 1 2 2 4 7 7 9 ...\n",
      " $ V1        : num  -1.36 1.192 -1.358 -0.966 -1.158 ...\n",
      " $ V2        : num  -0.0728 0.2662 -1.3402 -0.1852 0.8777 ...\n",
      " $ V3        : num  2.536 0.166 1.773 1.793 1.549 ...\n",
      " $ V4        : num  1.378 0.448 0.38 -0.863 0.403 ...\n",
      " $ V5        : num  -0.3383 0.06 -0.5032 -0.0103 -0.4072 ...\n",
      " $ V6        : num  0.4624 -0.0824 1.8005 1.2472 0.0959 ...\n",
      " $ V7        : num  0.2396 -0.0788 0.7915 0.2376 0.5929 ...\n",
      " $ V8        : num  0.0987 0.0851 0.2477 0.3774 -0.2705 ...\n",
      " $ V9        : num  0.364 -0.255 -1.515 -1.387 0.818 ...\n",
      " $ V10       : num  0.0908 -0.167 0.2076 -0.055 0.7531 ...\n",
      " $ V11       : num  -0.552 1.613 0.625 -0.226 -0.823 ...\n",
      " $ V12       : num  -0.6178 1.0652 0.0661 0.1782 0.5382 ...\n",
      " $ V13       : num  -0.991 0.489 0.717 0.508 1.346 ...\n",
      " $ V14       : num  -0.311 -0.144 -0.166 -0.288 -1.12 ...\n",
      " $ V15       : num  1.468 0.636 2.346 -0.631 0.175 ...\n",
      " $ V16       : num  -0.47 0.464 -2.89 -1.06 -0.451 ...\n",
      " $ V17       : num  0.208 -0.115 1.11 -0.684 -0.237 ...\n",
      " $ V18       : num  0.0258 -0.1834 -0.1214 1.9658 -0.0382 ...\n",
      " $ V19       : num  0.404 -0.146 -2.262 -1.233 0.803 ...\n",
      " $ V20       : num  0.2514 -0.0691 0.525 -0.208 0.4085 ...\n",
      " $ V21       : num  -0.01831 -0.22578 0.248 -0.1083 -0.00943 ...\n",
      " $ V22       : num  0.27784 -0.63867 0.77168 0.00527 0.79828 ...\n",
      " $ V23       : num  -0.11 0.101 0.909 -0.19 -0.137 ...\n",
      " $ V24       : num  0.0669 -0.3398 -0.6893 -1.1756 0.1413 ...\n",
      " $ V25       : num  0.129 0.167 -0.328 0.647 -0.206 ...\n",
      " $ V26       : num  -0.189 0.126 -0.139 -0.222 0.502 ...\n",
      " $ V27       : num  0.13356 -0.00898 -0.05535 0.06272 0.21942 ...\n",
      " $ V28       : num  -0.0211 0.0147 -0.0598 0.0615 0.2152 ...\n",
      " $ Amount    : num  149.62 2.69 378.66 123.5 69.99 ...\n",
      " $ Class     : int  0 0 0 0 0 0 0 0 0 0 ...\n",
      " $ Amount_cat: chr  \"high\" \"low\" \"high\" \"high\" ...\n"
     ]
    }
   ],
   "source": [
    "\n",
    "credit_data<- read.csv(\"M:\\\\Imarticus\\\\ProjectR\\\\Credit card fraud\\\\Datafiles\\\\creditcard.csv\", header = TRUE,\n",
    "                              stringsAsFactors = TRUE,\n",
    "                              strip.white = FALSE ,\n",
    "                              sep = ',')\n",
    "\n",
    "credit_data$Amount_cat<- ifelse(credit_data$Amount<=30,\"low\",\n",
    "                                       ifelse(credit_data$Amount>=31 & credit_data$Amount<=75,\"medium\",\"high\"))\n",
    "str(credit_data)\n",
    "\n"
   ]
  },
  {
   "cell_type": "code",
   "execution_count": 2,
   "metadata": {},
   "outputs": [],
   "source": [
    "credit_data$Class= as.factor(credit_data$Class)\n",
    "credit_data$Amount_cat= as.factor(credit_data$Amount_cat)"
   ]
  },
  {
   "cell_type": "code",
   "execution_count": 3,
   "metadata": {},
   "outputs": [
    {
     "data": {
      "text/plain": [
       "                     Df    Sum Sq   Mean Sq F value   Pr(>F)    \n",
       "Class                 1 9.753e+10 9.753e+10  43.286 4.74e-11 ***\n",
       "Amount_cat            2 4.856e+11 2.428e+11 107.760  < 2e-16 ***\n",
       "Class:Amount_cat      2 1.084e+10 5.418e+09   2.405   0.0903 .  \n",
       "Residuals        284801 6.417e+14 2.253e+09                     \n",
       "---\n",
       "Signif. codes:  0 '***' 0.001 '**' 0.01 '*' 0.05 '.' 0.1 ' ' 1"
      ]
     },
     "metadata": {},
     "output_type": "display_data"
    }
   ],
   "source": [
    "summary(aov(Time~ Class*Amount_cat,data=credit_data))"
   ]
  },
  {
   "cell_type": "code",
   "execution_count": 4,
   "metadata": {},
   "outputs": [
    {
     "data": {
      "text/plain": [
       "                     Df  Sum Sq Mean Sq F value Pr(>F)    \n",
       "Class                 1   11223   11223  2991.0 <2e-16 ***\n",
       "Amount_cat            2   12224    6112  1628.9 <2e-16 ***\n",
       "Class:Amount_cat      2     558     279    74.4 <2e-16 ***\n",
       "Residuals        284801 1068649       4                   \n",
       "---\n",
       "Signif. codes:  0 '***' 0.001 '**' 0.01 '*' 0.05 '.' 0.1 ' ' 1"
      ]
     },
     "metadata": {},
     "output_type": "display_data"
    }
   ],
   "source": [
    "summary(aov(V1~ Class*Amount_cat,data=credit_data))"
   ]
  },
  {
   "cell_type": "code",
   "execution_count": 5,
   "metadata": {},
   "outputs": [
    {
     "data": {
      "text/plain": [
       "                     Df Sum Sq Mean Sq  F value Pr(>F)    \n",
       "Class                 1   6472    6472  2809.43 <2e-16 ***\n",
       "Amount_cat            2 113862   56931 24713.24 <2e-16 ***\n",
       "Class:Amount_cat      2    193      97    41.91 <2e-16 ***\n",
       "Residuals        284801 656087       2                    \n",
       "---\n",
       "Signif. codes:  0 '***' 0.001 '**' 0.01 '*' 0.05 '.' 0.1 ' ' 1"
      ]
     },
     "metadata": {},
     "output_type": "display_data"
    }
   ],
   "source": [
    "summary(aov(V2~ Class*Amount_cat,data=credit_data))"
   ]
  },
  {
   "cell_type": "code",
   "execution_count": 6,
   "metadata": {},
   "outputs": [
    {
     "data": {
      "text/plain": [
       "                   Df Sum Sq Mean Sq  F value   Pr(>F)    \n",
       "Class               1  18452   18452 1326.991  < 2e-16 ***\n",
       "Amount_cat          2    256     128    9.194 0.000106 ***\n",
       "Class:Amount_cat    2    177      89    6.378 0.001733 ** \n",
       "Residuals        1992  27699      14                      \n",
       "---\n",
       "Signif. codes:  0 '***' 0.001 '**' 0.01 '*' 0.05 '.' 0.1 ' ' 1"
      ]
     },
     "metadata": {},
     "output_type": "display_data"
    }
   ],
   "source": [
    "summary(aov(V3~ Class*Amount_cat,data=credit_data))"
   ]
  },
  {
   "cell_type": "code",
   "execution_count": 7,
   "metadata": {},
   "outputs": [
    {
     "data": {
      "text/plain": [
       "                   Df Sum Sq Mean Sq  F value   Pr(>F)    \n",
       "Class               1   7887    7887 2186.152  < 2e-16 ***\n",
       "Amount_cat          2     19      10    2.689 0.068215 .  \n",
       "Class:Amount_cat    2     55      28    7.640 0.000495 ***\n",
       "Residuals        1992   7187       4                      \n",
       "---\n",
       "Signif. codes:  0 '***' 0.001 '**' 0.01 '*' 0.05 '.' 0.1 ' ' 1"
      ]
     },
     "metadata": {},
     "output_type": "display_data"
    }
   ],
   "source": [
    "summary(aov(V4~ Class*Amount_cat,data=credit_data))"
   ]
  },
  {
   "cell_type": "code",
   "execution_count": 6,
   "metadata": {},
   "outputs": [
    {
     "data": {
      "text/plain": [
       "                     Df Sum Sq Mean Sq F value Pr(>F)    \n",
       "Class                 1   4894    4894  2751.5 <2e-16 ***\n",
       "Amount_cat            2  30311   15155  8520.3 <2e-16 ***\n",
       "Class:Amount_cat      2    791     396   222.5 <2e-16 ***\n",
       "Residuals        284801 506582       2                   \n",
       "---\n",
       "Signif. codes:  0 '***' 0.001 '**' 0.01 '*' 0.05 '.' 0.1 ' ' 1"
      ]
     },
     "metadata": {},
     "output_type": "display_data"
    }
   ],
   "source": [
    "summary(aov(V5~ Class*Amount_cat,data=credit_data))"
   ]
  },
  {
   "cell_type": "code",
   "execution_count": 7,
   "metadata": {},
   "outputs": [
    {
     "data": {
      "text/plain": [
       "                     Df Sum Sq Mean Sq  F value   Pr(>F)    \n",
       "Class                 1    963     963  552.248  < 2e-16 ***\n",
       "Amount_cat            2   7960    3980 2282.734  < 2e-16 ***\n",
       "Class:Amount_cat      2     29      15    8.411 0.000222 ***\n",
       "Residuals        284801 496563       2                      \n",
       "---\n",
       "Signif. codes:  0 '***' 0.001 '**' 0.01 '*' 0.05 '.' 0.1 ' ' 1"
      ]
     },
     "metadata": {},
     "output_type": "display_data"
    }
   ],
   "source": [
    "summary(aov(V6~ Class*Amount_cat,data=credit_data))"
   ]
  },
  {
   "cell_type": "code",
   "execution_count": 8,
   "metadata": {},
   "outputs": [
    {
     "data": {
      "text/plain": [
       "                     Df Sum Sq Mean Sq   F value Pr(>F)    \n",
       "Class                 1  15284   15284 10458.912 <2e-16 ***\n",
       "Amount_cat            2   4399    2200  1505.287 <2e-16 ***\n",
       "Class:Amount_cat      2      2       1     0.686  0.503    \n",
       "Residuals        284801 416182       1                     \n",
       "---\n",
       "Signif. codes:  0 '***' 0.001 '**' 0.01 '*' 0.05 '.' 0.1 ' ' 1"
      ]
     },
     "metadata": {},
     "output_type": "display_data"
    }
   ],
   "source": [
    "summary(aov(V7~ Class*Amount_cat,data=credit_data))"
   ]
  },
  {
   "cell_type": "code",
   "execution_count": 9,
   "metadata": {},
   "outputs": [
    {
     "data": {
      "text/plain": [
       "                     Df Sum Sq Mean Sq F value Pr(>F)    \n",
       "Class                 1    160   160.5  113.17 <2e-16 ***\n",
       "Amount_cat            2    223   111.7   78.78 <2e-16 ***\n",
       "Class:Amount_cat      2   2000   999.8  705.00 <2e-16 ***\n",
       "Residuals        284801 403886     1.4                   \n",
       "---\n",
       "Signif. codes:  0 '***' 0.001 '**' 0.01 '*' 0.05 '.' 0.1 ' ' 1"
      ]
     },
     "metadata": {},
     "output_type": "display_data"
    }
   ],
   "source": [
    "summary(aov(V8~ Class*Amount_cat,data=credit_data))"
   ]
  },
  {
   "cell_type": "code",
   "execution_count": 10,
   "metadata": {},
   "outputs": [
    {
     "data": {
      "text/plain": [
       "                     Df Sum Sq Mean Sq  F value   Pr(>F)    \n",
       "Class                 1   3283    3283 2757.425  < 2e-16 ***\n",
       "Amount_cat            2   1319     659  553.729  < 2e-16 ***\n",
       "Class:Amount_cat      2     23      11    9.486 7.59e-05 ***\n",
       "Residuals        284801 339134       1                      \n",
       "---\n",
       "Signif. codes:  0 '***' 0.001 '**' 0.01 '*' 0.05 '.' 0.1 ' ' 1"
      ]
     },
     "metadata": {},
     "output_type": "display_data"
    }
   ],
   "source": [
    "summary(aov(V9~ Class*Amount_cat,data=credit_data))"
   ]
  },
  {
   "cell_type": "code",
   "execution_count": 11,
   "metadata": {},
   "outputs": [
    {
     "data": {
      "text/plain": [
       "                     Df Sum Sq Mean Sq   F value   Pr(>F)    \n",
       "Class                 1  15883   15883 14080.916  < 2e-16 ***\n",
       "Amount_cat            2    511     256   226.611  < 2e-16 ***\n",
       "Class:Amount_cat      2     17       9     7.721 0.000443 ***\n",
       "Residuals        284801 321252       1                       \n",
       "---\n",
       "Signif. codes:  0 '***' 0.001 '**' 0.01 '*' 0.05 '.' 0.1 ' ' 1"
      ]
     },
     "metadata": {},
     "output_type": "display_data"
    }
   ],
   "source": [
    "summary(aov(V10~ Class*Amount_cat,data=credit_data))"
   ]
  },
  {
   "cell_type": "code",
   "execution_count": 12,
   "metadata": {},
   "outputs": [
    {
     "data": {
      "text/plain": [
       "                     Df Sum Sq Mean Sq F value Pr(>F)    \n",
       "Class                 1   7117    7117 7006.91 <2e-16 ***\n",
       "Amount_cat            2    306     153  150.64 <2e-16 ***\n",
       "Class:Amount_cat      2     10       5    4.99 0.0068 ** \n",
       "Residuals        284801 289293       1                   \n",
       "---\n",
       "Signif. codes:  0 '***' 0.001 '**' 0.01 '*' 0.05 '.' 0.1 ' ' 1"
      ]
     },
     "metadata": {},
     "output_type": "display_data"
    }
   ],
   "source": [
    "summary(aov(V11~ Class*Amount_cat,data=credit_data))"
   ]
  },
  {
   "cell_type": "code",
   "execution_count": 13,
   "metadata": {},
   "outputs": [
    {
     "data": {
      "text/plain": [
       "                     Df Sum Sq Mean Sq   F value  Pr(>F)    \n",
       "Class                 1  19310   19310 20753.794 < 2e-16 ***\n",
       "Amount_cat            2     47      23    25.145 1.2e-11 ***\n",
       "Class:Amount_cat      2      8       4     4.111  0.0164 *  \n",
       "Residuals        284801 264987       1                      \n",
       "---\n",
       "Signif. codes:  0 '***' 0.001 '**' 0.01 '*' 0.05 '.' 0.1 ' ' 1"
      ]
     },
     "metadata": {},
     "output_type": "display_data"
    }
   ],
   "source": [
    "summary(aov(V12~ Class*Amount_cat,data=credit_data))"
   ]
  },
  {
   "cell_type": "code",
   "execution_count": 14,
   "metadata": {},
   "outputs": [
    {
     "data": {
      "text/plain": [
       "                     Df Sum Sq Mean Sq F value   Pr(>F)    \n",
       "Class                 1      6    5.89   5.952 0.014701 *  \n",
       "Amount_cat            2    194   97.15  98.145  < 2e-16 ***\n",
       "Class:Amount_cat      2     17    8.32   8.404 0.000224 ***\n",
       "Residuals        284801 281904    0.99                     \n",
       "---\n",
       "Signif. codes:  0 '***' 0.001 '**' 0.01 '*' 0.05 '.' 0.1 ' ' 1"
      ]
     },
     "metadata": {},
     "output_type": "display_data"
    }
   ],
   "source": [
    "summary(aov(V13~ Class*Amount_cat,data=credit_data))"
   ]
  },
  {
   "cell_type": "code",
   "execution_count": 15,
   "metadata": {},
   "outputs": [
    {
     "data": {
      "text/plain": [
       "                     Df Sum Sq Mean Sq   F value Pr(>F)    \n",
       "Class                 1  23955   23955 28704.068 <2e-16 ***\n",
       "Amount_cat            2      7       4     4.272  0.014 *  \n",
       "Class:Amount_cat      2     67      33    40.011 <2e-16 ***\n",
       "Residuals        284801 237681       1                     \n",
       "---\n",
       "Signif. codes:  0 '***' 0.001 '**' 0.01 '*' 0.05 '.' 0.1 ' ' 1"
      ]
     },
     "metadata": {},
     "output_type": "display_data"
    }
   ],
   "source": [
    "summary(aov(V14~ Class*Amount_cat,data=credit_data))"
   ]
  },
  {
   "cell_type": "code",
   "execution_count": 16,
   "metadata": {},
   "outputs": [
    {
     "data": {
      "text/plain": [
       "                     Df Sum Sq Mean Sq F value   Pr(>F)    \n",
       "Class                 1      4    4.26   5.091   0.0241 *  \n",
       "Amount_cat            2    457  228.52 273.322  < 2e-16 ***\n",
       "Class:Amount_cat      2     35   17.36  20.769 9.57e-10 ***\n",
       "Residuals        284801 238115    0.84                     \n",
       "---\n",
       "Signif. codes:  0 '***' 0.001 '**' 0.01 '*' 0.05 '.' 0.1 ' ' 1"
      ]
     },
     "metadata": {},
     "output_type": "display_data"
    }
   ],
   "source": [
    "summary(aov(V15~ Class*Amount_cat,data=credit_data))"
   ]
  },
  {
   "cell_type": "code",
   "execution_count": 17,
   "metadata": {},
   "outputs": [
    {
     "data": {
      "text/plain": [
       "                     Df Sum Sq Mean Sq F value Pr(>F)    \n",
       "Class                 1   8447    8447 11558.4 <2e-16 ***\n",
       "Amount_cat            2   1946     973  1331.6 <2e-16 ***\n",
       "Class:Amount_cat      2    150      75   102.7 <2e-16 ***\n",
       "Residuals        284801 208136       1                   \n",
       "---\n",
       "Signif. codes:  0 '***' 0.001 '**' 0.01 '*' 0.05 '.' 0.1 ' ' 1"
      ]
     },
     "metadata": {},
     "output_type": "display_data"
    }
   ],
   "source": [
    "summary(aov(V16~ Class*Amount_cat,data=credit_data))"
   ]
  },
  {
   "cell_type": "code",
   "execution_count": 18,
   "metadata": {},
   "outputs": [
    {
     "data": {
      "text/plain": [
       "                     Df Sum Sq Mean Sq  F value Pr(>F)    \n",
       "Class                 1  21899   21899 34174.39 <2e-16 ***\n",
       "Amount_cat            2    110      55    86.02 <2e-16 ***\n",
       "Class:Amount_cat      2    941     470   734.14 <2e-16 ***\n",
       "Residuals        284801 182501       1                    \n",
       "---\n",
       "Signif. codes:  0 '***' 0.001 '**' 0.01 '*' 0.05 '.' 0.1 ' ' 1"
      ]
     },
     "metadata": {},
     "output_type": "display_data"
    }
   ],
   "source": [
    "summary(aov(V17~ Class*Amount_cat,data=credit_data))"
   ]
  },
  {
   "cell_type": "code",
   "execution_count": 19,
   "metadata": {},
   "outputs": [
    {
     "data": {
      "text/plain": [
       "                     Df Sum Sq Mean Sq F value Pr(>F)    \n",
       "Class                 1   2487  2486.9  3602.7 <2e-16 ***\n",
       "Amount_cat            2    806   403.1   583.9 <2e-16 ***\n",
       "Class:Amount_cat      2    202   100.9   146.1 <2e-16 ***\n",
       "Residuals        284801 196593     0.7                   \n",
       "---\n",
       "Signif. codes:  0 '***' 0.001 '**' 0.01 '*' 0.05 '.' 0.1 ' ' 1"
      ]
     },
     "metadata": {},
     "output_type": "display_data"
    }
   ],
   "source": [
    "summary(aov(V18~ Class*Amount_cat,data=credit_data))"
   ]
  },
  {
   "cell_type": "code",
   "execution_count": 20,
   "metadata": {},
   "outputs": [
    {
     "data": {
      "text/plain": [
       "                     Df Sum Sq Mean Sq F value Pr(>F)    \n",
       "Class                 1    228  228.34  345.62 <2e-16 ***\n",
       "Amount_cat            2    236  118.21  178.92 <2e-16 ***\n",
       "Class:Amount_cat      2    106   53.23   80.57 <2e-16 ***\n",
       "Residuals        284801 188159    0.66                   \n",
       "---\n",
       "Signif. codes:  0 '***' 0.001 '**' 0.01 '*' 0.05 '.' 0.1 ' ' 1"
      ]
     },
     "metadata": {},
     "output_type": "display_data"
    }
   ],
   "source": [
    "summary(aov(V19~ Class*Amount_cat,data=credit_data))"
   ]
  },
  {
   "cell_type": "code",
   "execution_count": 21,
   "metadata": {},
   "outputs": [
    {
     "data": {
      "text/plain": [
       "                     Df Sum Sq Mean Sq  F value   Pr(>F)    \n",
       "Class                 1     68    68.3  117.254  < 2e-16 ***\n",
       "Amount_cat            2   3245  1622.7 2784.928  < 2e-16 ***\n",
       "Class:Amount_cat      2     10     5.2    8.966 0.000128 ***\n",
       "Residuals        284801 165943     0.6                      \n",
       "---\n",
       "Signif. codes:  0 '***' 0.001 '**' 0.01 '*' 0.05 '.' 0.1 ' ' 1"
      ]
     },
     "metadata": {},
     "output_type": "display_data"
    }
   ],
   "source": [
    "summary(aov(V20~ Class*Amount_cat,data=credit_data))"
   ]
  },
  {
   "cell_type": "code",
   "execution_count": 22,
   "metadata": {},
   "outputs": [
    {
     "data": {
      "text/plain": [
       "                     Df Sum Sq Mean Sq F value   Pr(>F)    \n",
       "Class                 1    251  250.96  467.74  < 2e-16 ***\n",
       "Amount_cat            2    578  289.18  538.96  < 2e-16 ***\n",
       "Class:Amount_cat      2     21   10.61   19.78 2.58e-09 ***\n",
       "Residuals        284801 152810    0.54                     \n",
       "---\n",
       "Signif. codes:  0 '***' 0.001 '**' 0.01 '*' 0.05 '.' 0.1 ' ' 1"
      ]
     },
     "metadata": {},
     "output_type": "display_data"
    }
   ],
   "source": [
    "summary(aov(V21~ Class*Amount_cat,data=credit_data))"
   ]
  },
  {
   "cell_type": "code",
   "execution_count": 23,
   "metadata": {},
   "outputs": [
    {
     "data": {
      "text/plain": [
       "                     Df Sum Sq Mean Sq F value Pr(>F)    \n",
       "Class                 1      0    0.10   0.185 0.6671    \n",
       "Amount_cat            2    254  127.22 241.985 <2e-16 ***\n",
       "Class:Amount_cat      2      4    1.97   3.750 0.0235 *  \n",
       "Residuals        284801 149733    0.53                   \n",
       "---\n",
       "Signif. codes:  0 '***' 0.001 '**' 0.01 '*' 0.05 '.' 0.1 ' ' 1"
      ]
     },
     "metadata": {},
     "output_type": "display_data"
    }
   ],
   "source": [
    "summary(aov(V22~ Class*Amount_cat,data=credit_data))"
   ]
  },
  {
   "cell_type": "code",
   "execution_count": 24,
   "metadata": {},
   "outputs": [
    {
     "data": {
      "text/plain": [
       "                     Df Sum Sq Mean Sq F value   Pr(>F)    \n",
       "Class                 1      1   0.801   2.054    0.152    \n",
       "Amount_cat            2     27  13.586  34.850 7.36e-16 ***\n",
       "Class:Amount_cat      2      8   4.082  10.472 2.83e-05 ***\n",
       "Residuals        284801 111024   0.390                     \n",
       "---\n",
       "Signif. codes:  0 '***' 0.001 '**' 0.01 '*' 0.05 '.' 0.1 ' ' 1"
      ]
     },
     "metadata": {},
     "output_type": "display_data"
    }
   ],
   "source": [
    "summary(aov(V23~ Class*Amount_cat,data=credit_data))"
   ]
  },
  {
   "cell_type": "code",
   "execution_count": 25,
   "metadata": {},
   "outputs": [
    {
     "data": {
      "text/plain": [
       "                     Df Sum Sq Mean Sq F value   Pr(>F)    \n",
       "Class                 1      5   5.447   14.86 0.000116 ***\n",
       "Amount_cat            2     58  29.124   79.45  < 2e-16 ***\n",
       "Class:Amount_cat      2      8   4.053   11.06 1.58e-05 ***\n",
       "Residuals        284801 104397   0.367                     \n",
       "---\n",
       "Signif. codes:  0 '***' 0.001 '**' 0.01 '*' 0.05 '.' 0.1 ' ' 1"
      ]
     },
     "metadata": {},
     "output_type": "display_data"
    }
   ],
   "source": [
    "summary(aov(V24~ Class*Amount_cat,data=credit_data))"
   ]
  },
  {
   "cell_type": "code",
   "execution_count": 26,
   "metadata": {},
   "outputs": [
    {
     "data": {
      "text/plain": [
       "                     Df Sum Sq Mean Sq F value   Pr(>F)    \n",
       "Class                 1      1   0.847   3.117   0.0775 .  \n",
       "Amount_cat            2     13   6.264  23.056 9.72e-11 ***\n",
       "Class:Amount_cat      2      0   0.024   0.087   0.9171    \n",
       "Residuals        284801  77377   0.272                     \n",
       "---\n",
       "Signif. codes:  0 '***' 0.001 '**' 0.01 '*' 0.05 '.' 0.1 ' ' 1"
      ]
     },
     "metadata": {},
     "output_type": "display_data"
    }
   ],
   "source": [
    "summary(aov(V25~ Class*Amount_cat,data=credit_data))"
   ]
  },
  {
   "cell_type": "code",
   "execution_count": 27,
   "metadata": {},
   "outputs": [
    {
     "data": {
      "text/plain": [
       "                     Df Sum Sq Mean Sq F value Pr(>F)    \n",
       "Class                 1      1   1.315   5.656 0.0174 *  \n",
       "Amount_cat            2     21  10.260  44.138 <2e-16 ***\n",
       "Class:Amount_cat      2      2   1.056   4.542 0.0107 *  \n",
       "Residuals        284801  66206   0.232                   \n",
       "---\n",
       "Signif. codes:  0 '***' 0.001 '**' 0.01 '*' 0.05 '.' 0.1 ' ' 1"
      ]
     },
     "metadata": {},
     "output_type": "display_data"
    }
   ],
   "source": [
    "summary(aov(V26~ Class*Amount_cat,data=credit_data))"
   ]
  },
  {
   "cell_type": "code",
   "execution_count": 28,
   "metadata": {},
   "outputs": [
    {
     "data": {
      "text/plain": [
       "                     Df Sum Sq Mean Sq F value Pr(>F)    \n",
       "Class                 1     14   14.34   88.23 <2e-16 ***\n",
       "Amount_cat            2     81   40.63  249.97 <2e-16 ***\n",
       "Class:Amount_cat      2     15    7.59   46.70 <2e-16 ***\n",
       "Residuals        284801  46290    0.16                   \n",
       "---\n",
       "Signif. codes:  0 '***' 0.001 '**' 0.01 '*' 0.05 '.' 0.1 ' ' 1"
      ]
     },
     "metadata": {},
     "output_type": "display_data"
    }
   ],
   "source": [
    "summary(aov(V27~ Class*Amount_cat,data=credit_data))"
   ]
  },
  {
   "cell_type": "code",
   "execution_count": 29,
   "metadata": {},
   "outputs": [
    {
     "data": {
      "text/plain": [
       "                     Df Sum Sq Mean Sq F value   Pr(>F)    \n",
       "Class                 1      3  2.8218   25.91 3.58e-07 ***\n",
       "Amount_cat            2      6  2.8142   25.84 6.03e-12 ***\n",
       "Class:Amount_cat      2      2  0.7767    7.13 0.000801 ***\n",
       "Residuals        284801  31021  0.1089                     \n",
       "---\n",
       "Signif. codes:  0 '***' 0.001 '**' 0.01 '*' 0.05 '.' 0.1 ' ' 1"
      ]
     },
     "metadata": {},
     "output_type": "display_data"
    }
   ],
   "source": [
    "summary(aov(V28~ Class*Amount_cat,data=credit_data))"
   ]
  },
  {
   "cell_type": "code",
   "execution_count": 30,
   "metadata": {},
   "outputs": [
    {
     "data": {
      "text/plain": [
       "                     Df    Sum Sq   Mean Sq   F value   Pr(>F)    \n",
       "Class                 1 5.651e+05 5.651e+05    11.614 0.000655 ***\n",
       "Amount_cat            2 3.959e+09 1.980e+09 40682.682  < 2e-16 ***\n",
       "Class:Amount_cat      2 1.552e+05 7.762e+04     1.595 0.202885    \n",
       "Residuals        284801 1.386e+10 4.866e+04                       \n",
       "---\n",
       "Signif. codes:  0 '***' 0.001 '**' 0.01 '*' 0.05 '.' 0.1 ' ' 1"
      ]
     },
     "metadata": {},
     "output_type": "display_data"
    }
   ],
   "source": [
    "summary(aov(Amount~ Class*Amount_cat,data=credit_data))"
   ]
  }
 ],
 "metadata": {
  "kernelspec": {
   "display_name": "R",
   "language": "R",
   "name": "ir"
  },
  "language_info": {
   "codemirror_mode": "r",
   "file_extension": ".r",
   "mimetype": "text/x-r-source",
   "name": "R",
   "pygments_lexer": "r",
   "version": "3.5.1"
  }
 },
 "nbformat": 4,
 "nbformat_minor": 2
}
