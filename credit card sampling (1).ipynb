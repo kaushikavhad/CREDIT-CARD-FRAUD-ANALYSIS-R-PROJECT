{
 "cells": [
  {
   "cell_type": "code",
   "execution_count": 8,
   "metadata": {},
   "outputs": [],
   "source": [
    "# As creditcard.csv having total 284,807 transactions records, of which 492 (0.17%) are fraudulent i.e Class=1 and \n",
    "# remaning 284315 are non fraud transaction i.e Class=0. As data is very unballanced so I am doing under sampling.\n",
    "\n"
   ]
  },
  {
   "cell_type": "code",
   "execution_count": 6,
   "metadata": {},
   "outputs": [
    {
     "data": {
      "text/html": [
       "<ol class=list-inline>\n",
       "\t<li>284807</li>\n",
       "\t<li>31</li>\n",
       "</ol>\n"
      ],
      "text/latex": [
       "\\begin{enumerate*}\n",
       "\\item 284807\n",
       "\\item 31\n",
       "\\end{enumerate*}\n"
      ],
      "text/markdown": [
       "1. 284807\n",
       "2. 31\n",
       "\n",
       "\n"
      ],
      "text/plain": [
       "[1] 284807     31"
      ]
     },
     "metadata": {},
     "output_type": "display_data"
    },
    {
     "data": {
      "text/plain": [
       "\n",
       "     0      1 \n",
       "284315    492 "
      ]
     },
     "metadata": {},
     "output_type": "display_data"
    }
   ],
   "source": [
    "library(readr)\n",
    "credit_data<- read.csv(\"M:\\\\Imarticus\\\\ProjectR\\\\Credit card fraud\\\\Datafiles\\\\creditcard.csv\", header = TRUE,\n",
    "                       stringsAsFactors = TRUE,\n",
    "                       strip.white = FALSE ,\n",
    "                       sep = ',')\n",
    "dim(credit_data)\n",
    "table(credit_data$Class)"
   ]
  },
  {
   "cell_type": "code",
   "execution_count": 9,
   "metadata": {},
   "outputs": [
    {
     "data": {
      "text/html": [
       "492"
      ],
      "text/latex": [
       "492"
      ],
      "text/markdown": [
       "492"
      ],
      "text/plain": [
       "[1] 492"
      ]
     },
     "metadata": {},
     "output_type": "display_data"
    },
    {
     "data": {
      "text/html": [
       "284315"
      ],
      "text/latex": [
       "284315"
      ],
      "text/markdown": [
       "284315"
      ],
      "text/plain": [
       "[1] 284315"
      ]
     },
     "metadata": {},
     "output_type": "display_data"
    }
   ],
   "source": [
    "library(\"sqldf\")\n",
    "credit_data_c1=sqldf(\"select * from credit_data where Class == 1\")\n",
    "credit_data_c0= sqldf(\"select * from credit_data where Class == 0 \")\n",
    "nrow(credit_data_c1)\n",
    "nrow(credit_data_c0)"
   ]
  },
  {
   "cell_type": "code",
   "execution_count": 10,
   "metadata": {},
   "outputs": [
    {
     "data": {
      "text/html": [
       "1506"
      ],
      "text/latex": [
       "1506"
      ],
      "text/markdown": [
       "1506"
      ],
      "text/plain": [
       "[1] 1506"
      ]
     },
     "metadata": {},
     "output_type": "display_data"
    }
   ],
   "source": [
    "#sampling\n",
    "set.seed(100)  \n",
    "Row_Index <- sample(1:nrow(credit_data_c0), 0.0053*nrow(credit_data_c0))  \n",
    "sample_data <- credit_data_c0[Row_Index, ]\n",
    "nrow(sample_data)"
   ]
  },
  {
   "cell_type": "code",
   "execution_count": 11,
   "metadata": {},
   "outputs": [
    {
     "data": {
      "text/html": [
       "1998"
      ],
      "text/latex": [
       "1998"
      ],
      "text/markdown": [
       "1998"
      ],
      "text/plain": [
       "[1] 1998"
      ]
     },
     "metadata": {},
     "output_type": "display_data"
    }
   ],
   "source": [
    "credit_data_sample<- rbind(credit_data_c1,sample_data)\n",
    "nrow(credit_data_sample)"
   ]
  },
  {
   "cell_type": "code",
   "execution_count": 14,
   "metadata": {},
   "outputs": [
    {
     "data": {
      "text/html": [
       "1998"
      ],
      "text/latex": [
       "1998"
      ],
      "text/markdown": [
       "1998"
      ],
      "text/plain": [
       "[1] 1998"
      ]
     },
     "metadata": {},
     "output_type": "display_data"
    }
   ],
   "source": [
    "credit_data_sample<- sqldf(\"select * from credit_data_sample order by Time\")\n",
    "nrow(credit_data_sample)\n",
    "\n",
    "#save file for further use\n",
    "write.csv(credit_data_sample,file=\"M:\\\\Imarticus\\\\ProjectR\\\\Credit card fraud\\\\credit_data_sample.csv\")\n"
   ]
  },
  {
   "cell_type": "code",
   "execution_count": 13,
   "metadata": {},
   "outputs": [
    {
     "data": {
      "text/plain": [
       "\n",
       "   0    1 \n",
       "1506  492 "
      ]
     },
     "metadata": {},
     "output_type": "display_data"
    }
   ],
   "source": [
    "table(credit_data_sample$Class)"
   ]
  }
 ],
 "metadata": {
  "kernelspec": {
   "display_name": "R",
   "language": "R",
   "name": "ir"
  },
  "language_info": {
   "codemirror_mode": "r",
   "file_extension": ".r",
   "mimetype": "text/x-r-source",
   "name": "R",
   "pygments_lexer": "r",
   "version": "3.5.1"
  }
 },
 "nbformat": 4,
 "nbformat_minor": 2
}
